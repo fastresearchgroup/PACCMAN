{
 "cells": [
  {
   "cell_type": "code",
   "execution_count": 82,
   "metadata": {},
   "outputs": [],
   "source": [
    "import matplotlib.pyplot as plt\n",
    "%matplotlib inline"
   ]
  },
  {
   "cell_type": "code",
   "execution_count": 83,
   "metadata": {},
   "outputs": [],
   "source": [
    "import math"
   ]
  },
  {
   "cell_type": "code",
   "execution_count": 84,
   "metadata": {},
   "outputs": [],
   "source": [
    "import numpy as np"
   ]
  },
  {
   "cell_type": "code",
   "execution_count": 222,
   "metadata": {},
   "outputs": [],
   "source": [
    "TC = 15.\n",
    "#coolant temperature celsius\n",
    "PP = 980.\n",
    "#density of plastic part kg/m^3\n",
    "CP = 1300.\n",
    "#specific heat capacity of plastic part J/KG*K\n",
    "LP = 0.001\n",
    "#half the plastic part thickness m\n",
    "KM = 16.5\n",
    "#thermal conductivity of mold 316 steel\n",
    "W = 0.010\n",
    "#cooling line pitch distance m\n",
    "D = 0.005\n",
    "#cooling line diameter m\n",
    "LM = 0.004\n",
    "#distance from cooling line to mold wall\n",
    "TMelt = 180.\n",
    "#Part melted temperature\n",
    "TEject = 64.9\n",
    "#Part ejection temperature\n",
    "TCycle = 10.\n",
    "#Cycle time seconds\n",
    "PM = 7930.\n",
    "#Mold density kg/m^3\n",
    "CM = 510.\n",
    "#Mold specific heat\n",
    "TMO = 13.\n",
    "#Initial mold temperature\n",
    "CVV = 0.227\n",
    "#coolant velocity liters/sec\n",
    "DV = 1.002 * 10**-3\n",
    "#coolant dynamic viscosity\n",
    "KC = 0.5918\n",
    "#thermal conductivity of coolant\n",
    "PC = 998.2\n",
    "#coolant density\n",
    "CC = 4187\n",
    "#specific heat capacity of coolant"
   ]
  },
  {
   "cell_type": "code",
   "execution_count": null,
   "metadata": {},
   "outputs": [],
   "source": [
    "FV = (CVV*0.001)/(math.pi*(D/2)**2)\n",
    "#flow velocity of coolant m/s"
   ]
  },
  {
   "cell_type": "code",
   "execution_count": null,
   "metadata": {},
   "outputs": [],
   "source": [
    "print (FV)"
   ]
  },
  {
   "cell_type": "code",
   "execution_count": 223,
   "metadata": {},
   "outputs": [],
   "source": [
    "KV = DV/PC\n",
    "#coolant kinematic viscosity"
   ]
  },
  {
   "cell_type": "code",
   "execution_count": 224,
   "metadata": {},
   "outputs": [
    {
     "name": "stdout",
     "output_type": "stream",
     "text": [
      "1.0038068523342016e-06\n"
     ]
    }
   ],
   "source": [
    "print (KV)"
   ]
  },
  {
   "cell_type": "code",
   "execution_count": 225,
   "metadata": {},
   "outputs": [],
   "source": [
    "RE = FV*D/KV\n",
    "#Reynolds number of coolant"
   ]
  },
  {
   "cell_type": "code",
   "execution_count": 226,
   "metadata": {},
   "outputs": [
    {
     "name": "stdout",
     "output_type": "stream",
     "text": [
      "1130.6956087824353\n"
     ]
    }
   ],
   "source": [
    "print (RE)"
   ]
  },
  {
   "cell_type": "code",
   "execution_count": 227,
   "metadata": {},
   "outputs": [],
   "source": [
    "PR = DV*CC/KC\n",
    "#Prandl number of coolant"
   ]
  },
  {
   "cell_type": "code",
   "execution_count": 228,
   "metadata": {},
   "outputs": [
    {
     "name": "stdout",
     "output_type": "stream",
     "text": [
      "7.089175397093613\n"
     ]
    }
   ],
   "source": [
    "print (PR)"
   ]
  },
  {
   "cell_type": "code",
   "execution_count": 229,
   "metadata": {},
   "outputs": [],
   "source": [
    "h = (KC/D)*(0.023*RE**0.8)*PR**0.4\n",
    "#Heat transfer coefficient"
   ]
  },
  {
   "cell_type": "code",
   "execution_count": 230,
   "metadata": {},
   "outputs": [
    {
     "name": "stdout",
     "output_type": "stream",
     "text": [
      "1651.3823767280016\n"
     ]
    }
   ],
   "source": [
    "print (h)"
   ]
  },
  {
   "cell_type": "code",
   "execution_count": 231,
   "metadata": {},
   "outputs": [],
   "source": [
    "TM = PP*CP*LP*(2.0*KM*W + h*D*LM*math.pi)*(TMelt - TEject)"
   ]
  },
  {
   "cell_type": "code",
   "execution_count": 232,
   "metadata": {},
   "outputs": [],
   "source": [
    "TM = TM/(h*D*KM*TCycle*math.pi)"
   ]
  },
  {
   "cell_type": "code",
   "execution_count": 233,
   "metadata": {},
   "outputs": [],
   "source": [
    "TM = TM + TC\n",
    "#Temperature of the mold"
   ]
  },
  {
   "cell_type": "code",
   "execution_count": 234,
   "metadata": {},
   "outputs": [
    {
     "name": "stdout",
     "output_type": "stream",
     "text": [
      "29.860800335537746\n"
     ]
    }
   ],
   "source": [
    "print (TM)"
   ]
  },
  {
   "cell_type": "code",
   "execution_count": 235,
   "metadata": {},
   "outputs": [],
   "source": [
    "TConstant = ((PM*CM*LM**2)/KM)*(1+(2.0*W*KM)/(h*D*LM*math.pi))\n",
    "#Time constant"
   ]
  },
  {
   "cell_type": "code",
   "execution_count": 236,
   "metadata": {},
   "outputs": [
    {
     "name": "stdout",
     "output_type": "stream",
     "text": [
      "16.394599139650676\n"
     ]
    }
   ],
   "source": [
    "print (TConstant)"
   ]
  },
  {
   "cell_type": "code",
   "execution_count": 237,
   "metadata": {},
   "outputs": [],
   "source": [
    "x = np.linspace(0,100)"
   ]
  },
  {
   "cell_type": "code",
   "execution_count": 238,
   "metadata": {},
   "outputs": [],
   "source": [
    "y = TM + ((TMO-TM)*math.e**(-x/TConstant))"
   ]
  },
  {
   "cell_type": "code",
   "execution_count": 240,
   "metadata": {},
   "outputs": [
    {
     "data": {
      "text/plain": [
       "(0.0, 100.0, 0.0, 35.0)"
      ]
     },
     "execution_count": 240,
     "metadata": {},
     "output_type": "execute_result"
    },
    {
     "data": {
      "image/png": "[encoded data removed]",
      "text/plain": [
       "<Figure size 432x288 with 1 Axes>"
      ]
     },
     "metadata": {
      "needs_background": "light"
     },
     "output_type": "display_data"
    }
   ],
   "source": [
    "plt.plot(x,y,'r')\n",
    "plt.axis([0,100,0,35])"
   ]
  },
  {
   "cell_type": "code",
   "execution_count": null,
   "metadata": {},
   "outputs": [],
   "source": []
  },
  {
   "cell_type": "code",
   "execution_count": null,
   "metadata": {},
   "outputs": [],
   "source": []
  },
  {
   "cell_type": "code",
   "execution_count": null,
   "metadata": {},
   "outputs": [],
   "source": []
  }
 ],
 "metadata": {
  "kernelspec": {
   "display_name": "Python 3",
   "language": "python",
   "name": "python3"
  },
  "language_info": {
   "codemirror_mode": {
    "name": "ipython",
    "version": 3
   },
   "file_extension": ".py",
   "mimetype": "text/x-python",
   "name": "python",
   "nbconvert_exporter": "python",
   "pygments_lexer": "ipython3",
   "version": "3.8.3"
  }
 },
 "nbformat": 4,
 "nbformat_minor": 4
}
